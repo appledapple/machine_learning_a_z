{
 "cells": [
  {
   "cell_type": "markdown",
   "metadata": {},
   "source": [
    "### Multiple Linear Regression\n",
    "- used to explain the relationship between one continous dependent variable & two or more independent variables.\n",
    "- the independet variables can be continous or categorical(dummy variable)\n",
    "- always omit one dummy variable in the equation to avoid dummy variable trap\n",
    "- Dummy Variable Trap: a scenario in which two or more variables are highly correlated.\n",
    "\n",
    "$$\n",
    "y = b_{0} + b_{1}x_{1} + b_{2}x_{2} + b_{3}x_{3}\n",
    "$$"
   ]
  },
  {
   "cell_type": "markdown",
   "metadata": {},
   "source": [
    "### P - value\n",
    "- a statistical measure that helps scientists determine whether or not their hypotheses are correct. \n",
    "- P values are used to determine whether the results of their experiment are within the normal range of values for the events being observed. - If the P value of a data set is below a certain pre-determined amount (like, for instance, 0.05), scientists will reject the \"null hypothesis\" of their experiment - in other words, they'll rule out the hypothesis that the variables of their experiment had no meaningful effect on the results. \n",
    "(source: https://www.wikihow.com/Calculate-P-Value)"
   ]
  },
  {
   "cell_type": "markdown",
   "metadata": {},
   "source": [
    "### Building a Model\n",
    "\n",
    "#### 5 Models of Building Models\n",
    "1. All-in\n",
    "   - prior knowledge\n",
    "   - you have to\n",
    "   - preparing for backward elimination\n",
    "2. Backward Elimination\n",
    "   * step 1: Select a significance level to stay in the model (e.g. SL = 0.05)\n",
    "   * step 2: Fit the full model with all possible predictors\n",
    "   * step 3: Consider the predictor with the highest P-value. If P > SL, got to step 4, otherwise got to FIN\n",
    "   * step 4: Remove the predictor\n",
    "   * step 5: Fit the model without this variable* \n",
    "   * repeat step 3 until P <= SL\n",
    "   * FIN: model is ready\n",
    "3. Forward Selection\n",
    "   * step 1: Select a significance level to enter the model (e.g. SL = 0.05)\n",
    "   * step 2: Fit all simple regression models **y ～ x<sub>n</sub>**. Select the one with the lowest P-value.\n",
    "   * step 3: Keep this variable and fit all possible models with one extra predictor added to the one(s) you already have\n",
    "   * step 4: Consider the predictor with the lowest P-value. If P < SL, go to step 3, otherwise go to FIN\n",
    "   * FIN: Keep the previous model\n",
    "4. Bidirectional Elimination\n",
    "   * step 1: Select a significance level to enter and to stay in the model (e.g. SLENTER = 0.05, SLSTAY = 0.05)\n",
    "   * step 2: Perform the next step of Forward Selection (new variables must have P < SLENTER to enter)\n",
    "   * step 3: Perfor ALL steps of Backward Elimination (old variables must have P < SLSTAY to stay)\n",
    "   * repeat step 2 - 3\n",
    "   * step 4: No new variables can enter & no old variables can exit\n",
    "   * FIN: model is ready\n",
    "5. Score Comparision (All Possible Models)\n",
    "   * step 1: Select a criterion of goodness of fit (e.g. Akaike criterion)\n",
    "   * step 2: Construct all possible regression models: $2^{N} - 1$ total combinations\n",
    "   * step 3: Select the one with the best criterion\n",
    "   * FIN: Model is Ready\n",
    "   * Example: 10 columns means 1,023 models\n",
    "\n",
    "\n",
    "* Stepwise Regression refers to #s 2, 3, 4\n"
   ]
  },
  {
   "cell_type": "markdown",
   "metadata": {},
   "source": [
    "### Multiple Linear Regression Implementation"
   ]
  },
  {
   "cell_type": "code",
   "execution_count": null,
   "metadata": {},
   "outputs": [],
   "source": []
  }
 ],
 "metadata": {
  "kernelspec": {
   "display_name": "Python 3",
   "language": "python",
   "name": "python3"
  },
  "language_info": {
   "codemirror_mode": {
    "name": "ipython",
    "version": 3
   },
   "file_extension": ".py",
   "mimetype": "text/x-python",
   "name": "python",
   "nbconvert_exporter": "python",
   "pygments_lexer": "ipython3",
   "version": "3.6.5"
  }
 },
 "nbformat": 4,
 "nbformat_minor": 2
}
